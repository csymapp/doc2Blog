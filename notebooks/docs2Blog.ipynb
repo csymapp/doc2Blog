{
  "cells": [
    {
      "cell_type": "markdown",
      "metadata": {
        "id": "view-in-github",
        "colab_type": "text"
      },
      "source": [
        "<a href=\"https://colab.research.google.com/github/csymapp/docs2Blog/blob/master/notebooks/docs2Blog.ipynb\" target=\"_parent\"><img src=\"https://colab.research.google.com/assets/colab-badge.svg\" alt=\"Open In Colab\"/></a>"
      ]
    },
    {
      "cell_type": "markdown",
      "source": [],
      "metadata": {
        "id": "ByukAmtkp1p6"
      }
    },
    {
      "cell_type": "markdown",
      "source": [
        "# Website Tools\n",
        "\n",
        "Run this noteboook to update(push changes) to website once you have edited [the website config sheet](https://docs.google.com/spreadsheets/d/1-otVkXNn6i4tWGki9grXzc4DjG6TdQ_XWTBbJttlESU/edit#gid=512290428)."
      ],
      "metadata": {
        "id": "bZkLclUXW2d6"
      }
    },
    {
      "cell_type": "code",
      "source": [
        "%%capture\n",
        "from google.colab import drive\n",
        "drive.mount('/content/drive')\n",
        "\n",
        "!pip install gdown"
      ],
      "metadata": {
        "id": "J5AZRfhkW8Gn"
      },
      "execution_count": null,
      "outputs": []
    },
    {
      "cell_type": "markdown",
      "source": [
        "Download script and run\n",
        "The script:\n",
        "- Downloads dir template if missing (from github)\n",
        "- Asks for ssh key (if missing) and writes to file\n",
        "- Asks for docId and sheetId (if missing) and writes to file\n",
        "- Processes the rest of the site"
      ],
      "metadata": {
        "id": "OoKsOf_oOBnk"
      }
    },
    {
      "cell_type": "code",
      "source": [
        "%%bash\n",
        "\n",
        "# rm -f docs2Blog.sh\n",
        "# wget  --no-check-certificate --no-cache --no-cookies https://raw.githubusercontent.com/csymapp/docs2Blog/master/scripts/docs2Blog.sh -O docs2Blog.sh\n",
        "# # curl -o docs2Blog.sh https://raw.githubusercontent.com/csymapp/docs2Blog/master/scripts/docs2Blog.sh\n",
        "# {\n",
        "# sudo ln -s \"$(pwd)/docs2Blog.sh\" /usr/local/bin/docs2Blog\n",
        "# }\n",
        "## No means found of downloading without return cached data using wget and curl. Best option is to just clone the repo\n",
        "cd /tmp \n",
        "rm -rf docs2Blog\n",
        "git clone https://github.com/csymapp/docs2Blog.git\n",
        "cd docs2Blog/scripts \n",
        "\n",
        "chmod +x ./docs2Blog.sh\n",
        "# cat ./scripts/docs2Blog.sh\n",
        "ln -s \"$(pwd)/docs2Blog.sh\" /usr/local/bin/docs2Blog 2>/dev/null || true\n",
        "# rm /usr/local/bin/docs2Blog && sudo ln -s \"$(pwd)/scripts/docs2Blog.sh\" /usr/local/bin/docs2Blog ## it link already exists\n",
        "# rm /usr/local/bin/docs2Blog || sudo ln -s \"$(pwd)/scripts/docs2Blog.sh\" /usr/local/bin/docs2Blog ## if link does not exist\n",
        "# sudo ln -s \"$(pwd)/scripts/docs2Blog.sh\" /usr/local/bin/docs2Blog\n",
        "\n",
        "docs2Blog template\n",
        "# docs2Blog ssh"
      ],
      "metadata": {
        "id": "1UMYrpj4N_7c"
      },
      "execution_count": null,
      "outputs": []
    },
    {
      "cell_type": "markdown",
      "source": [
        "Check if ssh key already exists. If not, ask for email address to use."
      ],
      "metadata": {
        "id": "M3iGtrUtprfq"
      }
    },
    {
      "cell_type": "code",
      "source": [
        "import os\n",
        "#from google.colab import files\n",
        "\n",
        "file_path = '/content/drive/MyDrive/Publishing/Website-private/id_rsa'\n",
        "if os.path.exists(file_path):\n",
        "    print(\"The file exists.\")\n",
        "else:\n",
        "    email = input(\"Please enter your email: \")\n",
        "    os.environ['EMAIL'] = email\n",
        "    !docs2Blog ssh \"$EMAIL\"\n",
        "    ! mv \"/content/drive/MyDrive/Publishing/Website-private/id_rsa.pub\" \"/content/drive/MyDrive/Publishing/Website-private/id_rsa.pub.txt\"\n",
        "    ! pandoc -o \"/content/drive/MyDrive/Publishing/Website-private/id_rsa.pub.docx\" \"/content/drive/MyDrive/Publishing/Website-private/id_rsa.pub.txt\"\n",
        "    ! rm \"/content/drive/MyDrive/Publishing/Website-private/id_rsa.pub.txt\"\n",
        "    print(\"Check your key in Publishing/Website-private/id_rsa.pub.docx, then\")\n",
        "    print(\"follow instructions in [Setting Up Key on GitHub](https://csymapp.github.io/docs2Blog/setting-up-key-github) to set it up\")\n",
        "    # files.download('/content/drive/MyDrive/Publishing/Website-private/id_rsa.pub')\n",
        "    print(\"Once you have set up the key in github, come back here and:\")\n",
        "    input(\"Press and Key to Continue\")"
      ],
      "metadata": {
        "id": "E-EuSZ5NpgdK"
      },
      "execution_count": null,
      "outputs": []
    },
    {
      "cell_type": "markdown",
      "source": [
        "Now check if docId and sheetId are already set for the google spreadsheet with site configurations\n",
        "\n"
      ],
      "metadata": {
        "id": "yHN51_omwInl"
      }
    },
    {
      "cell_type": "code",
      "source": [
        "import os\n",
        "#from google.colab import files\n",
        "import yaml\n",
        "\n",
        "def process_yaml_file(file_path):\n",
        "    with open(file_path, 'r') as file:\n",
        "        try:\n",
        "            data = yaml.safe_load(file)\n",
        "            print(data)\n",
        "            sheet_id = data.get('sheetId')\n",
        "            doc_id = data.get('docId')\n",
        "            if not doc_id:\n",
        "                print(\"follow instructions in [Getting Doc Id](https://csymapp.github.io/docs2Blog/getting-doc-id) then enter it below.\")\n",
        "                doc_id = input(\"\")\n",
        "                os.environ['docId'] = doc_id\n",
        "                ! echo \"docId: $docId\" >> /content/drive/MyDrive/Publishing/Website-private/siteConfig\n",
        "            if not sheet_id:\n",
        "                # instructions for how to get sheet id\n",
        "                print(\"follow instructions in [Getting Sheet Id](https://csymapp.github.io/docs2Blog/getting-sheet-id) then enter it below.\")\n",
        "                sheet_id = input(\"\")\n",
        "                os.environ['sheetId'] = sheet_id\n",
        "                ! echo \"sheetId: $sheetId\" >> /content/drive/MyDrive/Publishing/Website-private/siteConfig\n",
        "            \n",
        "            return sheet_id, doc_id\n",
        "        except yaml.YAMLError as e:\n",
        "            print(\"Error processing YAML file:\", e)\n",
        "            return None, None\n",
        "\n",
        "file_path = '/content/drive/MyDrive/Publishing/Website-private/siteConfig'\n",
        "if not os.path.exists(file_path):\n",
        "    # create the file\n",
        "    ! echo \"abc: efg\" > /content/drive/MyDrive/Publishing/Website-private/siteConfig\n",
        "\n",
        "sheet_id, doc_id = process_yaml_file(file_path)\n",
        "os.environ['docId'] = doc_id\n",
        "os.environ['sheetId'] = str(sheet_id)\n",
        "\n",
        "# print(\"sheetId:\", sheet_id)\n",
        "# print(\"docId:\", doc_id)\n",
        "!cd /tmp/docs2Blog/scripts && pwd && docs2Blog site\n",
        "    "
      ],
      "metadata": {
        "id": "J0PH4fRCwOD1"
      },
      "execution_count": null,
      "outputs": []
    }
  ],
  "metadata": {
    "colab": {
      "provenance": [],
      "collapsed_sections": [
        "bZkLclUXW2d6"
      ],
      "include_colab_link": true
    },
    "kernelspec": {
      "display_name": "Python 3",
      "name": "python3"
    }
  },
  "nbformat": 4,
  "nbformat_minor": 0
}